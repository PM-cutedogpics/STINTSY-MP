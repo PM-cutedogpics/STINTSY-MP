{
 "cells": [
  {
   "cell_type": "markdown",
   "id": "a91deead",
   "metadata": {},
   "source": [
    "# Description of the dataset and the task\n",
    "- Data Collection\n",
    "- Implications on the types of conclusions that could be made from the data\n",
    "- Description of the variables, observations, and/or structure of the data\n",
    "- Target task"
   ]
  },
  {
   "cell_type": "markdown",
   "id": "6763498d",
   "metadata": {},
   "source": [
    "# Exploratory data analysis\n",
    "- Mean Image\n",
    "- Distribution of the Size of Images\n",
    "- Distribution of labels"
   ]
  },
  {
   "cell_type": "markdown",
   "id": "ad99aae9",
   "metadata": {},
   "source": [
    "# Data Pre-processing and Cleaning\n",
    "- Change into same dimensions"
   ]
  },
  {
   "cell_type": "markdown",
   "id": "748bf3c1",
   "metadata": {},
   "source": [
    "# Model Training"
   ]
  },
  {
   "cell_type": "markdown",
   "id": "8ad92aeb",
   "metadata": {},
   "source": [
    "# Model Selection and Hyperparameter Tuning"
   ]
  },
  {
   "cell_type": "markdown",
   "id": "121915f7",
   "metadata": {},
   "source": [
    "# Insights and conclusions"
   ]
  }
 ],
 "metadata": {
  "kernelspec": {
   "display_name": "Python 3 (ipykernel)",
   "language": "python",
   "name": "python3"
  },
  "language_info": {
   "codemirror_mode": {
    "name": "ipython",
    "version": 3
   },
   "file_extension": ".py",
   "mimetype": "text/x-python",
   "name": "python",
   "nbconvert_exporter": "python",
   "pygments_lexer": "ipython3",
   "version": "3.9.7"
  }
 },
 "nbformat": 4,
 "nbformat_minor": 5
}
